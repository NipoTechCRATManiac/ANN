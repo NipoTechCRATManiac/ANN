{
  "nbformat": 4,
  "nbformat_minor": 0,
  "metadata": {
    "colab": {
      "provenance": [],
      "authorship_tag": "ABX9TyNnTMz27AuE5DhKJWJXtW+1",
      "include_colab_link": true
    },
    "kernelspec": {
      "name": "python3",
      "display_name": "Python 3"
    },
    "language_info": {
      "name": "python"
    }
  },
  "cells": [
    {
      "cell_type": "markdown",
      "metadata": {
        "id": "view-in-github",
        "colab_type": "text"
      },
      "source": [
        "<a href=\"https://colab.research.google.com/github/NipoTechCRATManiac/ANN/blob/main/annpractisepart2.ipynb\" target=\"_parent\"><img src=\"https://colab.research.google.com/assets/colab-badge.svg\" alt=\"Open In Colab\"/></a>"
      ]
    },
    {
      "cell_type": "markdown",
      "source": [
        "1.Creating Double Layer Neural Network"
      ],
      "metadata": {
        "id": "Q7gQNI4dI-mh"
      }
    },
    {
      "cell_type": "code",
      "source": [
        "#Creating Input Layer\n",
        "import numpy as np\n",
        "data =[5,6,7]\n",
        "x0 = data[0]\n",
        "x1 = data[1]\n",
        "x2 = data[2]\n",
        "input_layer=np.array([x0,x1,x2])\n",
        "print(\"Input_Layer = \",input_layer)"
      ],
      "metadata": {
        "colab": {
          "base_uri": "https://localhost:8080/"
        },
        "id": "bGIOq4DyJEQw",
        "outputId": "fbe838cd-e8e2-4c01-e8fd-b4ddc438a9a0"
      },
      "execution_count": null,
      "outputs": [
        {
          "output_type": "stream",
          "name": "stdout",
          "text": [
            "Input_Layer =  [5 6 7]\n"
          ]
        }
      ]
    },
    {
      "cell_type": "code",
      "source": [
        "#Creating Hidden Layer1\n",
        "weights = {'x3':np.array([1,2,3]), 'x4':np.array([1,-1,1]), 'x5':np.array([1,2,-2])}\n",
        "x3 = (input_layer*weights['x3']).sum()\n",
        "x4 = (input_layer*weights['x4']).sum()\n",
        "x5 = (input_layer*weights['x5']).sum()\n",
        "hidden_layer1 = np.array([x3,x4,x5])\n",
        "print(\"Hidden_Layer = \",hidden_layer1)"
      ],
      "metadata": {
        "colab": {
          "base_uri": "https://localhost:8080/"
        },
        "id": "llbgNcFaJmFz",
        "outputId": "fd2df9b3-f488-40a1-fe67-239f0b71906c"
      },
      "execution_count": null,
      "outputs": [
        {
          "output_type": "stream",
          "name": "stdout",
          "text": [
            "Hidden_Layer =  [38  6  3]\n"
          ]
        }
      ]
    },
    {
      "cell_type": "code",
      "source": [
        "#Creating Hidden Layer2\n",
        "weights = {'x6':np.array([1,-2,-3]), 'x7':np.array([1,-1,7]), 'x8':np.array([1,10,-2])}\n",
        "x6 = (hidden_layer1*weights['x6']).sum()\n",
        "x7 = (hidden_layer1*weights['x7']).sum()\n",
        "x8 = (hidden_layer1*weights['x8']).sum()\n",
        "hidden_layer2 = np.array([x6,x7,x8])\n",
        "print(\"Hidden_Layer = \",hidden_layer2)"
      ],
      "metadata": {
        "colab": {
          "base_uri": "https://localhost:8080/"
        },
        "id": "zP7SQNTQKchN",
        "outputId": "0aebec7e-9d3e-4dd6-f402-a77262446add"
      },
      "execution_count": null,
      "outputs": [
        {
          "output_type": "stream",
          "name": "stdout",
          "text": [
            "Hidden_Layer =  [17 53 92]\n"
          ]
        }
      ]
    },
    {
      "cell_type": "code",
      "source": [
        "#Creating Ouput Layer\n",
        "weights = {'x9':np.array([11,12,13])}\n",
        "x9 = (hidden_layer2*weights['x9']).sum()\n",
        "output_layer = np.array([x9])\n",
        "print(\"Output Layer = \",output_layer)"
      ],
      "metadata": {
        "colab": {
          "base_uri": "https://localhost:8080/"
        },
        "id": "zBLj8gcZK50w",
        "outputId": "f097dd36-b7ab-45b7-b983-c313ff3fc6a3"
      },
      "execution_count": null,
      "outputs": [
        {
          "output_type": "stream",
          "name": "stdout",
          "text": [
            "Output Layer =  [2019]\n"
          ]
        }
      ]
    }
  ]
}