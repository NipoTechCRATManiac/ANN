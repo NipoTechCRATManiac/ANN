{
  "nbformat": 4,
  "nbformat_minor": 0,
  "metadata": {
    "colab": {
      "provenance": [],
      "authorship_tag": "ABX9TyPSYjH9FpUKnfWyNKtLNWPK",
      "include_colab_link": true
    },
    "kernelspec": {
      "name": "python3",
      "display_name": "Python 3"
    },
    "language_info": {
      "name": "python"
    }
  },
  "cells": [
    {
      "cell_type": "markdown",
      "metadata": {
        "id": "view-in-github",
        "colab_type": "text"
      },
      "source": [
        "<a href=\"https://colab.research.google.com/github/NipoTechCRATManiac/ANN/blob/main/annpractisepart1.ipynb\" target=\"_parent\"><img src=\"https://colab.research.google.com/assets/colab-badge.svg\" alt=\"Open In Colab\"/></a>"
      ]
    },
    {
      "cell_type": "markdown",
      "source": [
        "1. Creating a Single Layered Neural Network\n",
        "2. INPUT LAYER -> HIDDEN LAYER -> OUTPUT LAYER\n"
      ],
      "metadata": {
        "id": "6xhfPfZqFxpo"
      }
    },
    {
      "cell_type": "code",
      "source": [
        "#INPUT LAYER\n",
        "import numpy as np\n",
        "data = np.array([6,7])\n",
        "x0 = data[0]\n",
        "x1 = data[1]\n",
        "input_layer = np.array([x0,x1])\n",
        "print(\"Input Layer = \",input_layer)"
      ],
      "metadata": {
        "colab": {
          "base_uri": "https://localhost:8080/"
        },
        "id": "QqSkOIjGF7zu",
        "outputId": "fc9fb06c-a4f7-4212-eec3-d2ff1c36ac8b"
      },
      "execution_count": null,
      "outputs": [
        {
          "output_type": "stream",
          "name": "stdout",
          "text": [
            "Input Layer =  [6 7]\n"
          ]
        }
      ]
    },
    {
      "cell_type": "code",
      "source": [
        "#HIDDEN LAYER\n",
        "weights = {'x2':np.array([1,1])\n",
        "          ,'x3':np.array([-1,1]),\n",
        "           'x4':np.array([2,-1])}\n",
        "\n",
        "x2 =(input_layer*weights['x2']).sum()\n",
        "x3 =(input_layer*weights['x3']).sum()\n",
        "hidden_layer = np.array([x2,x3])\n",
        "print(\"Hidden Layer = \",hidden_layer)"
      ],
      "metadata": {
        "colab": {
          "base_uri": "https://localhost:8080/"
        },
        "id": "pzkgvbjCGjDB",
        "outputId": "c9e98a32-1e7c-4be4-9127-82d7da6e96d3"
      },
      "execution_count": null,
      "outputs": [
        {
          "output_type": "stream",
          "name": "stdout",
          "text": [
            "Hidden Layer =  [13  1]\n"
          ]
        }
      ]
    },
    {
      "cell_type": "code",
      "source": [
        "#OUTPUT LAYER\n",
        "x4=(hidden_layer*weights['x4']).sum()\n",
        "output_layer = np.array([x4])\n",
        "print(\"Output Layer = \",output_layer)"
      ],
      "metadata": {
        "colab": {
          "base_uri": "https://localhost:8080/"
        },
        "id": "7uGAPx_AH8hZ",
        "outputId": "b0725a4e-a693-4532-9f4f-975a848c25f8"
      },
      "execution_count": null,
      "outputs": [
        {
          "output_type": "stream",
          "name": "stdout",
          "text": [
            "Output Layer =  [25]\n"
          ]
        }
      ]
    }
  ]
}